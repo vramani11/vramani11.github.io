{
 "cells": [
  {
   "cell_type": "markdown",
   "metadata": {},
   "source": [
    "# <h1 align=\"center\"> The Best Times Of The Year To Puchase Tech Stocks</h1>"
   ]
  },
  {
   "cell_type": "markdown",
   "metadata": {},
   "source": [
    "<h3 align=\"center\">Kevin Song, Vivek Ramani</h3>"
   ]
  },
  {
   "cell_type": "markdown",
   "metadata": {},
   "source": [
    "<h2 align=\"center\">Introduction</h2>"
   ]
  },
  {
   "cell_type": "markdown",
   "metadata": {},
   "source": [
    "For readers unfamilar with stocks or the stock market, we will give some basic information and definitions that will aid in understanding the financial terms that are used throughout the tutorial. <br><br>\n",
    "\n",
    "The <a href=\"https://www.nerdwallet.com/article/investing/what-is-sp-500\">S&P 500</a> is a stock market index that measures the stock performance of 500 large companies listed on stock exchanges in the United States. It is one of the most commonly followed equity indices and is often used as a measure of how well the overall stock market is performing. A <a href=\"https://www.investopedia.com/insights/digging-deeper-bull-and-bear-markets/#:~:text=A%20bull%20market%20is%20a,stocks%20are%20declining%20in%20value\">Bull Market</a> is a market that is on the rise and when the economy is booming. <br><br>\n",
    "\n",
    "We are currently experiencing the longest bull market run in history which started in March 9, 2009 and has since seen a 468% gain for the S&P 500 as of November 1, 2019, details <a href=\"https://www.cnbc.com/2019/11/14/the-markets-10-year-run-became-the-best-bull-market-ever-this-month.html\">here</a>. In 2020, the S&P saw an additional 15.3% increase from 2019 and closed at unprecedented all time highs even with the events of the covid pandemic. Out of all 11 sectors in the S&P, the Information Technology sector has seen the most growth with a 390% total return since the end of 2009 to the end of 2019. Full details about how well each sector performed can be found <a href=\"https://www.marketwatch.com/story/these-are-the-20-best-performing-stocks-of-the-past-decade-and-some-of-them-will-surprise-you-2019-12-09\">here</a>. <br><br>\n",
    "\n",
    "We would like to analyze this historic era, specifically looking at historical data from the past 10 years on stock prices for the three tech giants Apple, Google, and Amazon. We hope through exploratory data analysis, hypothesis testing, and machine learning to identify positive indicators for when to purchase tech stocks. "
   ]
  },
  {
   "cell_type": "markdown",
   "metadata": {},
   "source": [
    "<h2 align=\"center\">Gathering The Data</h2>"
   ]
  },
  {
   "cell_type": "markdown",
   "metadata": {},
   "source": [
    "In our tutorial, we use Python 3 along with the following imported libraries: <a href=\"https://pandas.pydata.org/docs/\">pandas</a>, <a href=\"https://numpy.org/doc/\">numpy</a>,  <a href=\"https://matplotlib.org/contents.html\">matplotlib</a>, <a href=\"https://seaborn.pydata.org/\">seaborn</a>, <a href=\"https://www.statsmodels.org/stable/generated/statsmodels.regression.linear_model.OLS.html\">ols</a>, <a href=\"https://docs.python.org/3/library/datetime.html\">datetime</a>."
   ]
  },
  {
   "cell_type": "code",
   "execution_count": 1,
   "metadata": {},
   "outputs": [],
   "source": [
    "# Import necessary libraries for this tutorial\n",
    "import pandas as pd\n",
    "import numpy as np\n",
    "import matplotlib.pyplot as plt\n",
    "import seaborn as sns\n",
    "from statsmodels.formula.api import ols\n",
    "import datetime as dt\n",
    "import warnings\n",
    "warnings.filterwarnings('ignore')\n",
    "\n",
    "# Change default figure size to display larger figures\n",
    "plt.rcParams[\"figure.figsize\"] = (18,10)"
   ]
  },
  {
   "cell_type": "markdown",
   "metadata": {},
   "source": [
    "## Reading the Data"
   ]
  },
  {
   "cell_type": "markdown",
   "metadata": {},
   "source": [
    "We retrieved historical stock data from the past 10 years for Apple, Google, and Amazon from Yahoo's historical stock database. Specifially, we retrieved data calculated daily from 12/2/2010 to 12/1/2020 for all 3 stocks. The files can be downloaded directly <a href=\"https://finance.yahoo.com/quote/AAPL/history?p=AAPL\">here</a> for Apple, <a href=\"https://finance.yahoo.com/quote/GOOG/history?p=GOOG\">here</a> for Google, and <a href=\"https://finance.yahoo.com/quote/AMZN/history?p=AMZN\">here</a> for Amazon. All downloads are automatically saved as .csv files which we can read in directly using Pandas."
   ]
  },
  {
   "cell_type": "code",
   "execution_count": 2,
   "metadata": {},
   "outputs": [
    {
     "data": {
      "text/html": [
       "<div>\n",
       "<style scoped>\n",
       "    .dataframe tbody tr th:only-of-type {\n",
       "        vertical-align: middle;\n",
       "    }\n",
       "\n",
       "    .dataframe tbody tr th {\n",
       "        vertical-align: top;\n",
       "    }\n",
       "\n",
       "    .dataframe thead th {\n",
       "        text-align: right;\n",
       "    }\n",
       "</style>\n",
       "<table border=\"1\" class=\"dataframe\">\n",
       "  <thead>\n",
       "    <tr style=\"text-align: right;\">\n",
       "      <th></th>\n",
       "      <th>Date</th>\n",
       "      <th>Open</th>\n",
       "      <th>High</th>\n",
       "      <th>Low</th>\n",
       "      <th>Close</th>\n",
       "      <th>Adj Close</th>\n",
       "      <th>Volume</th>\n",
       "    </tr>\n",
       "  </thead>\n",
       "  <tbody>\n",
       "    <tr>\n",
       "      <th>0</th>\n",
       "      <td>2010-12-02</td>\n",
       "      <td>11.340357</td>\n",
       "      <td>11.392858</td>\n",
       "      <td>11.246072</td>\n",
       "      <td>11.362500</td>\n",
       "      <td>9.801870</td>\n",
       "      <td>462837200</td>\n",
       "    </tr>\n",
       "    <tr>\n",
       "      <th>1</th>\n",
       "      <td>2010-12-03</td>\n",
       "      <td>11.321786</td>\n",
       "      <td>11.380357</td>\n",
       "      <td>11.297857</td>\n",
       "      <td>11.337143</td>\n",
       "      <td>9.779997</td>\n",
       "      <td>342092800</td>\n",
       "    </tr>\n",
       "    <tr>\n",
       "      <th>2</th>\n",
       "      <td>2010-12-06</td>\n",
       "      <td>11.380000</td>\n",
       "      <td>11.511786</td>\n",
       "      <td>11.372143</td>\n",
       "      <td>11.433928</td>\n",
       "      <td>9.863489</td>\n",
       "      <td>448481600</td>\n",
       "    </tr>\n",
       "    <tr>\n",
       "      <th>3</th>\n",
       "      <td>2010-12-07</td>\n",
       "      <td>11.564285</td>\n",
       "      <td>11.571072</td>\n",
       "      <td>11.361428</td>\n",
       "      <td>11.364643</td>\n",
       "      <td>9.803719</td>\n",
       "      <td>391454000</td>\n",
       "    </tr>\n",
       "    <tr>\n",
       "      <th>4</th>\n",
       "      <td>2010-12-08</td>\n",
       "      <td>11.415358</td>\n",
       "      <td>11.465000</td>\n",
       "      <td>11.325357</td>\n",
       "      <td>11.464643</td>\n",
       "      <td>9.889985</td>\n",
       "      <td>321935600</td>\n",
       "    </tr>\n",
       "  </tbody>\n",
       "</table>\n",
       "</div>"
      ],
      "text/plain": [
       "         Date       Open       High        Low      Close  Adj Close  \\\n",
       "0  2010-12-02  11.340357  11.392858  11.246072  11.362500   9.801870   \n",
       "1  2010-12-03  11.321786  11.380357  11.297857  11.337143   9.779997   \n",
       "2  2010-12-06  11.380000  11.511786  11.372143  11.433928   9.863489   \n",
       "3  2010-12-07  11.564285  11.571072  11.361428  11.364643   9.803719   \n",
       "4  2010-12-08  11.415358  11.465000  11.325357  11.464643   9.889985   \n",
       "\n",
       "      Volume  \n",
       "0  462837200  \n",
       "1  342092800  \n",
       "2  448481600  \n",
       "3  391454000  \n",
       "4  321935600  "
      ]
     },
     "execution_count": 2,
     "metadata": {},
     "output_type": "execute_result"
    }
   ],
   "source": [
    "# Get data for Apple from the past 10 years\n",
    "apple_data = pd.read_csv(\"AAPL.csv\")\n",
    "apple_data.head()"
   ]
  },
  {
   "cell_type": "code",
   "execution_count": 3,
   "metadata": {},
   "outputs": [
    {
     "data": {
      "text/html": [
       "<div>\n",
       "<style scoped>\n",
       "    .dataframe tbody tr th:only-of-type {\n",
       "        vertical-align: middle;\n",
       "    }\n",
       "\n",
       "    .dataframe tbody tr th {\n",
       "        vertical-align: top;\n",
       "    }\n",
       "\n",
       "    .dataframe thead th {\n",
       "        text-align: right;\n",
       "    }\n",
       "</style>\n",
       "<table border=\"1\" class=\"dataframe\">\n",
       "  <thead>\n",
       "    <tr style=\"text-align: right;\">\n",
       "      <th></th>\n",
       "      <th>Date</th>\n",
       "      <th>Open</th>\n",
       "      <th>High</th>\n",
       "      <th>Low</th>\n",
       "      <th>Close</th>\n",
       "      <th>Adj Close</th>\n",
       "      <th>Volume</th>\n",
       "    </tr>\n",
       "  </thead>\n",
       "  <tbody>\n",
       "    <tr>\n",
       "      <th>0</th>\n",
       "      <td>2010-12-02</td>\n",
       "      <td>283.268250</td>\n",
       "      <td>285.594513</td>\n",
       "      <td>281.619415</td>\n",
       "      <td>284.842346</td>\n",
       "      <td>284.842346</td>\n",
       "      <td>5114800</td>\n",
       "    </tr>\n",
       "    <tr>\n",
       "      <th>1</th>\n",
       "      <td>2010-12-03</td>\n",
       "      <td>283.661774</td>\n",
       "      <td>287.163635</td>\n",
       "      <td>282.939484</td>\n",
       "      <td>285.430145</td>\n",
       "      <td>285.430145</td>\n",
       "      <td>5282000</td>\n",
       "    </tr>\n",
       "    <tr>\n",
       "      <th>2</th>\n",
       "      <td>2010-12-06</td>\n",
       "      <td>289.200989</td>\n",
       "      <td>289.913330</td>\n",
       "      <td>287.228394</td>\n",
       "      <td>288.100128</td>\n",
       "      <td>288.100128</td>\n",
       "      <td>4203200</td>\n",
       "    </tr>\n",
       "    <tr>\n",
       "      <th>3</th>\n",
       "      <td>2010-12-07</td>\n",
       "      <td>294.531036</td>\n",
       "      <td>295.392792</td>\n",
       "      <td>291.905853</td>\n",
       "      <td>292.473724</td>\n",
       "      <td>292.473724</td>\n",
       "      <td>6107100</td>\n",
       "    </tr>\n",
       "    <tr>\n",
       "      <th>4</th>\n",
       "      <td>2010-12-08</td>\n",
       "      <td>294.879730</td>\n",
       "      <td>295.153687</td>\n",
       "      <td>290.755188</td>\n",
       "      <td>294.167389</td>\n",
       "      <td>294.167389</td>\n",
       "      <td>3526900</td>\n",
       "    </tr>\n",
       "  </tbody>\n",
       "</table>\n",
       "</div>"
      ],
      "text/plain": [
       "         Date        Open        High         Low       Close   Adj Close  \\\n",
       "0  2010-12-02  283.268250  285.594513  281.619415  284.842346  284.842346   \n",
       "1  2010-12-03  283.661774  287.163635  282.939484  285.430145  285.430145   \n",
       "2  2010-12-06  289.200989  289.913330  287.228394  288.100128  288.100128   \n",
       "3  2010-12-07  294.531036  295.392792  291.905853  292.473724  292.473724   \n",
       "4  2010-12-08  294.879730  295.153687  290.755188  294.167389  294.167389   \n",
       "\n",
       "    Volume  \n",
       "0  5114800  \n",
       "1  5282000  \n",
       "2  4203200  \n",
       "3  6107100  \n",
       "4  3526900  "
      ]
     },
     "execution_count": 3,
     "metadata": {},
     "output_type": "execute_result"
    }
   ],
   "source": [
    "# Get data for Google from the past 10 years\n",
    "google_data = pd.read_csv(\"GOOG.csv\")\n",
    "google_data.head()"
   ]
  },
  {
   "cell_type": "code",
   "execution_count": 4,
   "metadata": {},
   "outputs": [
    {
     "data": {
      "text/html": [
       "<div>\n",
       "<style scoped>\n",
       "    .dataframe tbody tr th:only-of-type {\n",
       "        vertical-align: middle;\n",
       "    }\n",
       "\n",
       "    .dataframe tbody tr th {\n",
       "        vertical-align: top;\n",
       "    }\n",
       "\n",
       "    .dataframe thead th {\n",
       "        text-align: right;\n",
       "    }\n",
       "</style>\n",
       "<table border=\"1\" class=\"dataframe\">\n",
       "  <thead>\n",
       "    <tr style=\"text-align: right;\">\n",
       "      <th></th>\n",
       "      <th>Date</th>\n",
       "      <th>Open</th>\n",
       "      <th>High</th>\n",
       "      <th>Low</th>\n",
       "      <th>Close</th>\n",
       "      <th>Adj Close</th>\n",
       "      <th>Volume</th>\n",
       "    </tr>\n",
       "  </thead>\n",
       "  <tbody>\n",
       "    <tr>\n",
       "      <th>0</th>\n",
       "      <td>2010-12-02</td>\n",
       "      <td>176.860001</td>\n",
       "      <td>177.449997</td>\n",
       "      <td>173.919998</td>\n",
       "      <td>176.529999</td>\n",
       "      <td>176.529999</td>\n",
       "      <td>5537600</td>\n",
       "    </tr>\n",
       "    <tr>\n",
       "      <th>1</th>\n",
       "      <td>2010-12-03</td>\n",
       "      <td>175.500000</td>\n",
       "      <td>176.399994</td>\n",
       "      <td>174.050003</td>\n",
       "      <td>175.679993</td>\n",
       "      <td>175.679993</td>\n",
       "      <td>4907500</td>\n",
       "    </tr>\n",
       "    <tr>\n",
       "      <th>2</th>\n",
       "      <td>2010-12-06</td>\n",
       "      <td>175.520004</td>\n",
       "      <td>178.429993</td>\n",
       "      <td>174.600006</td>\n",
       "      <td>178.050003</td>\n",
       "      <td>178.050003</td>\n",
       "      <td>5654200</td>\n",
       "    </tr>\n",
       "    <tr>\n",
       "      <th>3</th>\n",
       "      <td>2010-12-07</td>\n",
       "      <td>180.500000</td>\n",
       "      <td>181.470001</td>\n",
       "      <td>176.570007</td>\n",
       "      <td>176.770004</td>\n",
       "      <td>176.770004</td>\n",
       "      <td>5077100</td>\n",
       "    </tr>\n",
       "    <tr>\n",
       "      <th>4</th>\n",
       "      <td>2010-12-08</td>\n",
       "      <td>177.490005</td>\n",
       "      <td>178.160004</td>\n",
       "      <td>175.199997</td>\n",
       "      <td>176.289993</td>\n",
       "      <td>176.289993</td>\n",
       "      <td>3726900</td>\n",
       "    </tr>\n",
       "  </tbody>\n",
       "</table>\n",
       "</div>"
      ],
      "text/plain": [
       "         Date        Open        High         Low       Close   Adj Close  \\\n",
       "0  2010-12-02  176.860001  177.449997  173.919998  176.529999  176.529999   \n",
       "1  2010-12-03  175.500000  176.399994  174.050003  175.679993  175.679993   \n",
       "2  2010-12-06  175.520004  178.429993  174.600006  178.050003  178.050003   \n",
       "3  2010-12-07  180.500000  181.470001  176.570007  176.770004  176.770004   \n",
       "4  2010-12-08  177.490005  178.160004  175.199997  176.289993  176.289993   \n",
       "\n",
       "    Volume  \n",
       "0  5537600  \n",
       "1  4907500  \n",
       "2  5654200  \n",
       "3  5077100  \n",
       "4  3726900  "
      ]
     },
     "execution_count": 4,
     "metadata": {},
     "output_type": "execute_result"
    }
   ],
   "source": [
    "# Get data for Amazon from the past 10 years\n",
    "amazon_data = pd.read_csv(\"AMZN.csv\")\n",
    "amazon_data.head()"
   ]
  },
  {
   "cell_type": "markdown",
   "metadata": {},
   "source": [
    "In each of the above datasets, there are 7 initial columns. We have: <br>\n",
    "        - Date \n",
    "        - Open (Price of stock when market opens at 9:30 a.m. Eastern time) \n",
    "        - High (Highest price of the day)\n",
    "        - Low (Lowest price of the day)\n",
    "        - Close (Price of stock when market closes at 4:00 p.m. Eastern time) \n",
    "        - Adj Close (Adjusted closing price after accounting for corporate actions) \n",
    "        - Volume (Number of shares traded)\n",
    "    \n",
    "Most of these titles are self-explanatory. However, we would like to note here that we will be using closing price as opposed to adjusted closing price for our calculations and analysis. This is because we will be working with raw data in all of our other calculations and we would like to keep our analysis consistent. If you would like to learn more about how adjusted closing price differs from closing price, additional information can be viewed <a href=\"https://www.investopedia.com/terms/a/adjusted_closing_price.asp#:~:text=Key%20Takeaways,price%20before%20the%20market%20closes.\">here</a>."
   ]
  },
  {
   "cell_type": "markdown",
   "metadata": {},
   "source": [
    "## Tidying and Modifying the Data "
   ]
  },
  {
   "cell_type": "markdown",
   "metadata": {},
   "source": [
    "When looking at stock prices, we would like to only observe up to 2 decimal points because prices are typically rounded up to the nearest cent in the marketplace. This is because brokerages cannot accept orders or display quotes with more than 2 places after the decimal if the price is higher than $1 or they will be in violation of regulatory rules.\n",
    "\n",
    "Additionally, we will include a year and month column taken from the date to help us analyze general patterns in prices over months or years. One use of including this section in the table is so that we can easily drop all data from 2010, since there is only data from the month of December under 2010. As discussed above, we are dropping the adjusted closing price column because we prefer to use closing price in our calculations.\n",
    "\n",
    "Two important new columns will be created by doing computations from the given data. <br>\n",
    "    - Percent daily change (measures the difference between closing price and opening price as a percentage) \n",
    "    - Volatility (measures the difference between highest recorded price and lowest recorded price) \n",
    "    \n",
    "<a href=\"https://finance.zacks.com/calculate-daily-price-variation-stocks-8299.html\">Percent daily change</a> is the daily price variation in a stock and is one of the measures of volatility. These percentages are often used by investors to assess the risk in purchasing a stock.\n",
    "\n",
    "<a href=\"https://www.investopedia.com/ask/answers/021015/what-best-measure-given-stocks-volatility.asp\">Volatility</a> is the degree to which prices move. Higher volatility is often associated with more risk as prices fluctuate wildly at drastically different highs and lows while lower volatility is often associated with lower risk as prices are more stable. For the purposes of this tutorial, we will simply calculate daily volatility by observing differences in high and low prices after one trading day because our goal is to find trends over the course of long periods of time. More complicated models of volatility exist that involve computations with the standard deviation of prices over shorter periods of time, and can be found <a href=\"https://www.investopedia.com/ask/answers/021015/how-can-you-calculate-volatility-excel.asp\">here</a> if you wish to learn more about assessing risk with day trading. \n",
    "\n",
    "Finally, we create another column in the table that splits years into quarters. Each quarter represents three months so there are 4 quarters in a year. This is because most financial reporting and dividend payments are done on a quarterly basis, and we would like to present our findings in a similar format to account for how financial reportings and dividends may impact stock prices."
   ]
  },
  {
   "cell_type": "code",
   "execution_count": 5,
   "metadata": {},
   "outputs": [],
   "source": [
    "# Tidy data to only display up to 2 decimal points\n",
    "apple_data = apple_data.round(decimals=2)\n",
    "google_data = google_data.round(decimals=2)\n",
    "amazon_data = amazon_data.round(decimals=2)\n",
    "\n",
    "# Stores the year and month in seperate columns\n",
    "apple_data['Year'] = apple_data['Date'].astype(str).str[0:4]\n",
    "apple_data['Month'] = apple_data['Date'].astype(str).str[5:7]\n",
    "google_data['Year'] = google_data['Date'].astype(str).str[0:4]\n",
    "google_data['Month'] = google_data['Date'].astype(str).str[5:7]\n",
    "amazon_data['Year'] = amazon_data['Date'].astype(str).str[0:4]\n",
    "amazon_data['Month'] = amazon_data['Date'].astype(str).str[5:7]\n",
    "\n",
    "# Drop data in 2010\n",
    "apple_data = apple_data[apple_data.Year != \"2010\"]\n",
    "google_data = google_data[google_data.Year != \"2010\"]\n",
    "amazon_data = amazon_data[amazon_data.Year != \"2010\"]\n",
    "\n",
    "# Drop adj close column which won't be used\n",
    "apple_data = apple_data.drop(columns= [\"Adj Close\"])\n",
    "google_data = google_data.drop(columns= [\"Adj Close\"])\n",
    "amazon_data = amazon_data.drop(columns= [\"Adj Close\"])\n",
    "\n",
    "# Finds daily % change in stock price\n",
    "apple_data['% daily change'] = ((apple_data['Close'] - apple_data['Open'])/ apple_data['Open']) * 100\n",
    "google_data['% daily change'] = ((google_data['Close'] - google_data['Open'])/ google_data['Open']) * 100\n",
    "amazon_data['% daily change'] = ((amazon_data['Close'] - amazon_data['Open'])/ amazon_data['Open']) * 100\n",
    "\n",
    "# Include Volatility section by calculating High - Low price\n",
    "apple_data['Volatility'] = apple_data['High'] - apple_data['Low']\n",
    "google_data['Volatility'] = google_data['High'] - google_data['Low']\n",
    "amazon_data['Volatility'] = amazon_data['High'] - amazon_data['Low']\n",
    "\n",
    "\n",
    "# Add a column to represent months as quarters with the corresponding year\n",
    "quarter = []\n",
    "i = 0\n",
    "for x in apple_data['Year']: \n",
    "    if apple_data.iat[i, 7] == \"01\" or apple_data.iat[i, 7] == \"02\" or apple_data.iat[i, 7] == \"03\":\n",
    "        quarter.append(x + \"-Q1\")\n",
    "    elif apple_data.iat[i, 7] == \"04\" or apple_data.iat[i, 7] == \"05\" or apple_data.iat[i, 7] == \"06\":\n",
    "        quarter.append(x + \"-Q2\")\n",
    "    elif apple_data.iat[i, 7] == \"07\" or apple_data.iat[i, 7] == \"08\" or apple_data.iat[i, 7] == \"09\":\n",
    "        quarter.append(x + \"-Q3\")\n",
    "    else:\n",
    "        quarter.append(x + \"-Q4\")\n",
    "    i = i + 1\n",
    "    \n",
    "apple_data['Quarter'] = quarter\n",
    "\n",
    "quarter = []\n",
    "i = 0\n",
    "for x in google_data['Year']: \n",
    "    if google_data.iat[i, 7] == \"01\" or google_data.iat[i, 7] == \"02\" or google_data.iat[i, 7] == \"03\":\n",
    "        quarter.append(x + \"-Q1\")\n",
    "    elif google_data.iat[i, 7] == \"04\" or google_data.iat[i, 7] == \"05\" or google_data.iat[i, 7] == \"06\":\n",
    "        quarter.append(x + \"-Q2\")\n",
    "    elif google_data.iat[i, 7] == \"07\" or google_data.iat[i, 7] == \"08\" or google_data.iat[i, 7] == \"09\":\n",
    "        quarter.append(x + \"-Q3\")\n",
    "    else:\n",
    "        quarter.append(x + \"-Q4\")\n",
    "    i = i + 1\n",
    "    \n",
    "google_data['Quarter'] = quarter\n",
    "\n",
    "\n",
    "quarter = []\n",
    "i = 0\n",
    "for x in amazon_data['Year']: \n",
    "    if amazon_data.iat[i, 7] == \"01\" or amazon_data.iat[i, 7] == \"02\" or amazon_data.iat[i, 7] == \"03\":\n",
    "        quarter.append(x + \"-Q1\")\n",
    "    elif amazon_data.iat[i, 7] == \"04\" or amazon_data.iat[i, 7] == \"05\" or amazon_data.iat[i, 7] == \"06\":\n",
    "        quarter.append(x + \"-Q2\")\n",
    "    elif amazon_data.iat[i, 7] == \"07\" or amazon_data.iat[i, 7] == \"08\" or amazon_data.iat[i, 7] == \"09\":\n",
    "        quarter.append(x + \"-Q3\")\n",
    "    else:\n",
    "        quarter.append(x + \"-Q4\")\n",
    "    i = i + 1\n",
    "    \n",
    "amazon_data['Quarter'] = quarter"
   ]
  },
  {
   "cell_type": "code",
   "execution_count": 6,
   "metadata": {},
   "outputs": [
    {
     "data": {
      "text/html": [
       "<div>\n",
       "<style scoped>\n",
       "    .dataframe tbody tr th:only-of-type {\n",
       "        vertical-align: middle;\n",
       "    }\n",
       "\n",
       "    .dataframe tbody tr th {\n",
       "        vertical-align: top;\n",
       "    }\n",
       "\n",
       "    .dataframe thead th {\n",
       "        text-align: right;\n",
       "    }\n",
       "</style>\n",
       "<table border=\"1\" class=\"dataframe\">\n",
       "  <thead>\n",
       "    <tr style=\"text-align: right;\">\n",
       "      <th></th>\n",
       "      <th>Date</th>\n",
       "      <th>Open</th>\n",
       "      <th>High</th>\n",
       "      <th>Low</th>\n",
       "      <th>Close</th>\n",
       "      <th>Volume</th>\n",
       "      <th>Year</th>\n",
       "      <th>Month</th>\n",
       "      <th>% daily change</th>\n",
       "      <th>Volatility</th>\n",
       "      <th>Quarter</th>\n",
       "    </tr>\n",
       "  </thead>\n",
       "  <tbody>\n",
       "    <tr>\n",
       "      <th>21</th>\n",
       "      <td>2011-01-03</td>\n",
       "      <td>11.63</td>\n",
       "      <td>11.80</td>\n",
       "      <td>11.60</td>\n",
       "      <td>11.77</td>\n",
       "      <td>445138400</td>\n",
       "      <td>2011</td>\n",
       "      <td>01</td>\n",
       "      <td>1.203783</td>\n",
       "      <td>0.20</td>\n",
       "      <td>2011-Q1</td>\n",
       "    </tr>\n",
       "    <tr>\n",
       "      <th>22</th>\n",
       "      <td>2011-01-04</td>\n",
       "      <td>11.87</td>\n",
       "      <td>11.88</td>\n",
       "      <td>11.72</td>\n",
       "      <td>11.83</td>\n",
       "      <td>309080800</td>\n",
       "      <td>2011</td>\n",
       "      <td>01</td>\n",
       "      <td>-0.336984</td>\n",
       "      <td>0.16</td>\n",
       "      <td>2011-Q1</td>\n",
       "    </tr>\n",
       "    <tr>\n",
       "      <th>23</th>\n",
       "      <td>2011-01-05</td>\n",
       "      <td>11.77</td>\n",
       "      <td>11.94</td>\n",
       "      <td>11.77</td>\n",
       "      <td>11.93</td>\n",
       "      <td>255519600</td>\n",
       "      <td>2011</td>\n",
       "      <td>01</td>\n",
       "      <td>1.359388</td>\n",
       "      <td>0.17</td>\n",
       "      <td>2011-Q1</td>\n",
       "    </tr>\n",
       "    <tr>\n",
       "      <th>24</th>\n",
       "      <td>2011-01-06</td>\n",
       "      <td>11.95</td>\n",
       "      <td>11.97</td>\n",
       "      <td>11.89</td>\n",
       "      <td>11.92</td>\n",
       "      <td>300428800</td>\n",
       "      <td>2011</td>\n",
       "      <td>01</td>\n",
       "      <td>-0.251046</td>\n",
       "      <td>0.08</td>\n",
       "      <td>2011-Q1</td>\n",
       "    </tr>\n",
       "    <tr>\n",
       "      <th>25</th>\n",
       "      <td>2011-01-07</td>\n",
       "      <td>11.93</td>\n",
       "      <td>12.01</td>\n",
       "      <td>11.85</td>\n",
       "      <td>12.00</td>\n",
       "      <td>311931200</td>\n",
       "      <td>2011</td>\n",
       "      <td>01</td>\n",
       "      <td>0.586756</td>\n",
       "      <td>0.16</td>\n",
       "      <td>2011-Q1</td>\n",
       "    </tr>\n",
       "  </tbody>\n",
       "</table>\n",
       "</div>"
      ],
      "text/plain": [
       "          Date   Open   High    Low  Close     Volume  Year Month  \\\n",
       "21  2011-01-03  11.63  11.80  11.60  11.77  445138400  2011    01   \n",
       "22  2011-01-04  11.87  11.88  11.72  11.83  309080800  2011    01   \n",
       "23  2011-01-05  11.77  11.94  11.77  11.93  255519600  2011    01   \n",
       "24  2011-01-06  11.95  11.97  11.89  11.92  300428800  2011    01   \n",
       "25  2011-01-07  11.93  12.01  11.85  12.00  311931200  2011    01   \n",
       "\n",
       "    % daily change  Volatility  Quarter  \n",
       "21        1.203783        0.20  2011-Q1  \n",
       "22       -0.336984        0.16  2011-Q1  \n",
       "23        1.359388        0.17  2011-Q1  \n",
       "24       -0.251046        0.08  2011-Q1  \n",
       "25        0.586756        0.16  2011-Q1  "
      ]
     },
     "execution_count": 6,
     "metadata": {},
     "output_type": "execute_result"
    }
   ],
   "source": [
    "apple_data.head()"
   ]
  },
  {
   "cell_type": "code",
   "execution_count": 7,
   "metadata": {},
   "outputs": [
    {
     "data": {
      "text/html": [
       "<div>\n",
       "<style scoped>\n",
       "    .dataframe tbody tr th:only-of-type {\n",
       "        vertical-align: middle;\n",
       "    }\n",
       "\n",
       "    .dataframe tbody tr th {\n",
       "        vertical-align: top;\n",
       "    }\n",
       "\n",
       "    .dataframe thead th {\n",
       "        text-align: right;\n",
       "    }\n",
       "</style>\n",
       "<table border=\"1\" class=\"dataframe\">\n",
       "  <thead>\n",
       "    <tr style=\"text-align: right;\">\n",
       "      <th></th>\n",
       "      <th>Date</th>\n",
       "      <th>Open</th>\n",
       "      <th>High</th>\n",
       "      <th>Low</th>\n",
       "      <th>Close</th>\n",
       "      <th>Volume</th>\n",
       "      <th>Year</th>\n",
       "      <th>Month</th>\n",
       "      <th>% daily change</th>\n",
       "      <th>Volatility</th>\n",
       "      <th>Quarter</th>\n",
       "    </tr>\n",
       "  </thead>\n",
       "  <tbody>\n",
       "    <tr>\n",
       "      <th>21</th>\n",
       "      <td>2011-01-03</td>\n",
       "      <td>297.13</td>\n",
       "      <td>301.66</td>\n",
       "      <td>297.13</td>\n",
       "      <td>301.05</td>\n",
       "      <td>4748100</td>\n",
       "      <td>2011</td>\n",
       "      <td>01</td>\n",
       "      <td>1.319288</td>\n",
       "      <td>4.53</td>\n",
       "      <td>2011-Q1</td>\n",
       "    </tr>\n",
       "    <tr>\n",
       "      <th>22</th>\n",
       "      <td>2011-01-04</td>\n",
       "      <td>301.68</td>\n",
       "      <td>301.96</td>\n",
       "      <td>298.94</td>\n",
       "      <td>299.94</td>\n",
       "      <td>3662600</td>\n",
       "      <td>2011</td>\n",
       "      <td>01</td>\n",
       "      <td>-0.576770</td>\n",
       "      <td>3.02</td>\n",
       "      <td>2011-Q1</td>\n",
       "    </tr>\n",
       "    <tr>\n",
       "      <th>23</th>\n",
       "      <td>2011-01-05</td>\n",
       "      <td>298.91</td>\n",
       "      <td>304.03</td>\n",
       "      <td>298.90</td>\n",
       "      <td>303.40</td>\n",
       "      <td>5083500</td>\n",
       "      <td>2011</td>\n",
       "      <td>01</td>\n",
       "      <td>1.502124</td>\n",
       "      <td>5.13</td>\n",
       "      <td>2011-Q1</td>\n",
       "    </tr>\n",
       "    <tr>\n",
       "      <th>24</th>\n",
       "      <td>2011-01-06</td>\n",
       "      <td>304.20</td>\n",
       "      <td>308.06</td>\n",
       "      <td>303.89</td>\n",
       "      <td>305.60</td>\n",
       "      <td>4131000</td>\n",
       "      <td>2011</td>\n",
       "      <td>01</td>\n",
       "      <td>0.460224</td>\n",
       "      <td>4.17</td>\n",
       "      <td>2011-Q1</td>\n",
       "    </tr>\n",
       "    <tr>\n",
       "      <th>25</th>\n",
       "      <td>2011-01-07</td>\n",
       "      <td>306.81</td>\n",
       "      <td>307.97</td>\n",
       "      <td>303.93</td>\n",
       "      <td>307.07</td>\n",
       "      <td>4218100</td>\n",
       "      <td>2011</td>\n",
       "      <td>01</td>\n",
       "      <td>0.084743</td>\n",
       "      <td>4.04</td>\n",
       "      <td>2011-Q1</td>\n",
       "    </tr>\n",
       "  </tbody>\n",
       "</table>\n",
       "</div>"
      ],
      "text/plain": [
       "          Date    Open    High     Low   Close   Volume  Year Month  \\\n",
       "21  2011-01-03  297.13  301.66  297.13  301.05  4748100  2011    01   \n",
       "22  2011-01-04  301.68  301.96  298.94  299.94  3662600  2011    01   \n",
       "23  2011-01-05  298.91  304.03  298.90  303.40  5083500  2011    01   \n",
       "24  2011-01-06  304.20  308.06  303.89  305.60  4131000  2011    01   \n",
       "25  2011-01-07  306.81  307.97  303.93  307.07  4218100  2011    01   \n",
       "\n",
       "    % daily change  Volatility  Quarter  \n",
       "21        1.319288        4.53  2011-Q1  \n",
       "22       -0.576770        3.02  2011-Q1  \n",
       "23        1.502124        5.13  2011-Q1  \n",
       "24        0.460224        4.17  2011-Q1  \n",
       "25        0.084743        4.04  2011-Q1  "
      ]
     },
     "execution_count": 7,
     "metadata": {},
     "output_type": "execute_result"
    }
   ],
   "source": [
    "google_data.head()"
   ]
  },
  {
   "cell_type": "code",
   "execution_count": 8,
   "metadata": {},
   "outputs": [
    {
     "data": {
      "text/html": [
       "<div>\n",
       "<style scoped>\n",
       "    .dataframe tbody tr th:only-of-type {\n",
       "        vertical-align: middle;\n",
       "    }\n",
       "\n",
       "    .dataframe tbody tr th {\n",
       "        vertical-align: top;\n",
       "    }\n",
       "\n",
       "    .dataframe thead th {\n",
       "        text-align: right;\n",
       "    }\n",
       "</style>\n",
       "<table border=\"1\" class=\"dataframe\">\n",
       "  <thead>\n",
       "    <tr style=\"text-align: right;\">\n",
       "      <th></th>\n",
       "      <th>Date</th>\n",
       "      <th>Open</th>\n",
       "      <th>High</th>\n",
       "      <th>Low</th>\n",
       "      <th>Close</th>\n",
       "      <th>Volume</th>\n",
       "      <th>Year</th>\n",
       "      <th>Month</th>\n",
       "      <th>% daily change</th>\n",
       "      <th>Volatility</th>\n",
       "      <th>Quarter</th>\n",
       "    </tr>\n",
       "  </thead>\n",
       "  <tbody>\n",
       "    <tr>\n",
       "      <th>21</th>\n",
       "      <td>2011-01-03</td>\n",
       "      <td>181.37</td>\n",
       "      <td>186.00</td>\n",
       "      <td>181.21</td>\n",
       "      <td>184.22</td>\n",
       "      <td>5331400</td>\n",
       "      <td>2011</td>\n",
       "      <td>01</td>\n",
       "      <td>1.571373</td>\n",
       "      <td>4.79</td>\n",
       "      <td>2011-Q1</td>\n",
       "    </tr>\n",
       "    <tr>\n",
       "      <th>22</th>\n",
       "      <td>2011-01-04</td>\n",
       "      <td>186.15</td>\n",
       "      <td>187.70</td>\n",
       "      <td>183.78</td>\n",
       "      <td>185.01</td>\n",
       "      <td>5031800</td>\n",
       "      <td>2011</td>\n",
       "      <td>01</td>\n",
       "      <td>-0.612409</td>\n",
       "      <td>3.92</td>\n",
       "      <td>2011-Q1</td>\n",
       "    </tr>\n",
       "    <tr>\n",
       "      <th>23</th>\n",
       "      <td>2011-01-05</td>\n",
       "      <td>184.10</td>\n",
       "      <td>187.45</td>\n",
       "      <td>184.07</td>\n",
       "      <td>187.42</td>\n",
       "      <td>3418800</td>\n",
       "      <td>2011</td>\n",
       "      <td>01</td>\n",
       "      <td>1.803368</td>\n",
       "      <td>3.38</td>\n",
       "      <td>2011-Q1</td>\n",
       "    </tr>\n",
       "    <tr>\n",
       "      <th>24</th>\n",
       "      <td>2011-01-06</td>\n",
       "      <td>186.50</td>\n",
       "      <td>187.41</td>\n",
       "      <td>185.25</td>\n",
       "      <td>185.86</td>\n",
       "      <td>3179700</td>\n",
       "      <td>2011</td>\n",
       "      <td>01</td>\n",
       "      <td>-0.343164</td>\n",
       "      <td>2.16</td>\n",
       "      <td>2011-Q1</td>\n",
       "    </tr>\n",
       "    <tr>\n",
       "      <th>25</th>\n",
       "      <td>2011-01-07</td>\n",
       "      <td>187.88</td>\n",
       "      <td>188.45</td>\n",
       "      <td>183.74</td>\n",
       "      <td>185.49</td>\n",
       "      <td>5221700</td>\n",
       "      <td>2011</td>\n",
       "      <td>01</td>\n",
       "      <td>-1.272089</td>\n",
       "      <td>4.71</td>\n",
       "      <td>2011-Q1</td>\n",
       "    </tr>\n",
       "  </tbody>\n",
       "</table>\n",
       "</div>"
      ],
      "text/plain": [
       "          Date    Open    High     Low   Close   Volume  Year Month  \\\n",
       "21  2011-01-03  181.37  186.00  181.21  184.22  5331400  2011    01   \n",
       "22  2011-01-04  186.15  187.70  183.78  185.01  5031800  2011    01   \n",
       "23  2011-01-05  184.10  187.45  184.07  187.42  3418800  2011    01   \n",
       "24  2011-01-06  186.50  187.41  185.25  185.86  3179700  2011    01   \n",
       "25  2011-01-07  187.88  188.45  183.74  185.49  5221700  2011    01   \n",
       "\n",
       "    % daily change  Volatility  Quarter  \n",
       "21        1.571373        4.79  2011-Q1  \n",
       "22       -0.612409        3.92  2011-Q1  \n",
       "23        1.803368        3.38  2011-Q1  \n",
       "24       -0.343164        2.16  2011-Q1  \n",
       "25       -1.272089        4.71  2011-Q1  "
      ]
     },
     "execution_count": 8,
     "metadata": {},
     "output_type": "execute_result"
    }
   ],
   "source": [
    "amazon_data.head()"
   ]
  },
  {
   "cell_type": "markdown",
   "metadata": {},
   "source": [
    "# Exploratory Data Analysis "
   ]
  },
  {
   "cell_type": "markdown",
   "metadata": {},
   "source": [
    "In this section, we look at how the price moves in terms of years, quarters, and volume as well as analyze volatility in each stock."
   ]
  },
  {
   "cell_type": "markdown",
   "metadata": {},
   "source": [
    "## Comparing Average Daily Percent Change to High and Low Volume Days"
   ]
  },
  {
   "cell_type": "markdown",
   "metadata": {},
   "source": [
    "A key metric in stock analysis is volume. The more volume a stock has, the more people there are trading that stock. Many days of the year, the stock will trade at an average volume. But on certain days the volume may spike up or drop far below the average. This may be due to news surrounding the company or general investor sentiment on the level of the stock. If you would like to learn more information on high and low volume trading visit: <a href=\"https://smartasset.com/financial-advisor/high-volume-stocks\">Should You Pay Attention to a Stock’s Trading Volume?</a>\n",
    "\n",
    "In this section, we look to compare the top 20 highest and lowest volume days with the average and see if trading on these outlier dates is beneficial. If a majority of the data points to it swaying in one direction, we can say with reasonable evidence that it is either favorable or unfavorable to hold a trade into these days. \n",
    "\n",
    "For more information interpreting low volume visit: <a href=\"https://finance.zacks.com/mean-stock-price-goes-up-down-little-volume-2497.html#:~:text=A%20stock's%20trade%20volume%20represents,securities%20are%20less%20actively%20trading.\">Interpreting Low Volume</a>"
   ]
  },
  {
   "cell_type": "code",
   "execution_count": 9,
   "metadata": {},
   "outputs": [],
   "source": [
    "# Selects top 20 rows with largest volume\n",
    "ap_t20_most = apple_data.nlargest(20, 'Volume')\n",
    "g_t20_most = google_data.nlargest(20, 'Volume')\n",
    "am_t20_most = amazon_data.nlargest(20, 'Volume')\n",
    "\n",
    "# Selects top 20 rows with the least volume\n",
    "ap_t20_least = apple_data.nsmallest(20, 'Volume')\n",
    "g_t20_least = google_data.nsmallest(20, 'Volume')\n",
    "am_t20_least = amazon_data.nsmallest(20, 'Volume')\n",
    "\n",
    "# Finds average volume and daily percent change of the 20 largest volume days \n",
    "ap_most_avg_percent = ap_t20_most['% daily change'].mean()\n",
    "ap_most_avg_vol = ap_t20_most['Volume'].mean()\n",
    "g_most_avg_percent = g_t20_most['% daily change'].mean()\n",
    "g_most_avg_vol = g_t20_most['Volume'].mean()\n",
    "am_most_avg_percent = am_t20_most['% daily change'].mean()\n",
    "am_most_avg_vol = am_t20_most['Volume'].mean()\n",
    "\n",
    "# Finds average volume and daily percent change of the 20 smallest volume days \n",
    "ap_least_avg_percent = ap_t20_least['% daily change'].mean()\n",
    "ap_least_avg_vol = ap_t20_least['Volume'].mean()\n",
    "g_least_avg_percent = g_t20_least['% daily change'].mean()\n",
    "g_least_avg_vol = g_t20_least['Volume'].mean()\n",
    "am_least_avg_percent = am_t20_least['% daily change'].mean()\n",
    "am_least_avg_vol = am_t20_least['Volume'].mean()\n",
    "\n",
    "# Finds average volume and daily percent change of last 10 years\n",
    "ap_avg_percent = apple_data['% daily change'].mean()\n",
    "ap_avg_vol = apple_data['Volume'].mean()\n",
    "g_avg_percent = google_data['% daily change'].mean()\n",
    "g_avg_vol = google_data['Volume'].mean()\n",
    "am_avg_percent = amazon_data['% daily change'].mean()\n",
    "am_avg_vol = amazon_data['Volume'].mean()"
   ]
  },
  {
   "cell_type": "markdown",
   "metadata": {},
   "source": [
    "In the following plots, the black crosses denote the average daily % change by volume the Top 20 highest and lowest volume days while the green cross denotes the average daily % change by volume over the last 10 years. "
   ]
  },
  {
   "cell_type": "code",
   "execution_count": 10,
   "metadata": {},
   "outputs": [
    {
     "data": {
      "text/plain": [
       "Text(0, 0.5, 'Daily % Change')"
      ]
     },
     "execution_count": 10,
     "metadata": {},
     "output_type": "execute_result"
    },
    {
     "data": {
      "image/png": "[encoded data removed]",
      "text/plain": [
       "<Figure size 1296x720 with 1 Axes>"
      ]
     },
     "metadata": {
      "needs_background": "light"
     },
     "output_type": "display_data"
    }
   ],
   "source": [
    "# Plots all individual points for Apple Dataset (Top 20 most and least volume days)\n",
    "sns.scatterplot(data=ap_t20_most, x=\"Volume\", y=\"% daily change\")\n",
    "sns.scatterplot(data=ap_t20_least, x=\"Volume\", y=\"% daily change\")\n",
    "\n",
    "# Plots averages\n",
    "plt.scatter(ap_most_avg_vol, ap_most_avg_percent, marker='x', s=300, color = 'black')\n",
    "plt.scatter(ap_least_avg_vol, ap_least_avg_percent, marker='x', s=300, color = 'black')\n",
    "plt.scatter(ap_avg_vol, ap_avg_percent, marker='x', s=300, color = 'Green')\n",
    "\n",
    "plt.title('How High and Low Volume affects Apple Daily Percent Change')\n",
    "plt.xlabel(\"Volume\")\n",
    "plt.ylabel(\"Daily % Change\")"
   ]
  },
  {
   "cell_type": "markdown",
   "metadata": {},
   "source": [
    "This scatter plot for Apple Data shows that on low volume days there tends to be minimal movement in the stock price but as seen by the average, it points slightly towards being negative on the day. However, for very high volume days, apple stock generally takes a tumble, losing about 1% of its total value that day. Although the data shows that there can be positive days with high volume, the peaks of these high volume days do not hit 4% increases while the troughs fall well below -4%.\n",
    "\n",
    "When comparing the averages of these outlier days, we see that it is far more risky to hold a position into high and low volume days compared to your average trading day. For long term investors who have faith in the company at large, these days will be a temporary blemish in the portfolio that will likely be looked over in the long run. However for short term traders or options traders, holding a position into these days for Apple stock might lead to a significant, unrecoverable loss."
   ]
  },
  {
   "cell_type": "code",
   "execution_count": 11,
   "metadata": {},
   "outputs": [
    {
     "data": {
      "text/plain": [
       "Text(0, 0.5, 'Daily % Change')"
      ]
     },
     "execution_count": 11,
     "metadata": {},
     "output_type": "execute_result"
    },
    {
     "data": {
      "image/png": "[encoded data removed]",
      "text/plain": [
       "<Figure size 1296x720 with 1 Axes>"
      ]
     },
     "metadata": {
      "needs_background": "light"
     },
     "output_type": "display_data"
    }
   ],
   "source": [
    "# Plots all individual points for Google Dataset (Top 20 most and least volume days)\n",
    "sns.scatterplot(data=g_t20_most, x=\"Volume\", y=\"% daily change\")\n",
    "sns.scatterplot(data=g_t20_least, x=\"Volume\", y=\"% daily change\")\n",
    "\n",
    "# Plots averages\n",
    "plt.scatter(g_most_avg_vol, g_most_avg_percent, marker='x', s=300, color = 'black')\n",
    "plt.scatter(g_least_avg_vol, g_least_avg_percent, marker='x', s=300, color = 'black')\n",
    "plt.scatter(g_avg_vol, g_avg_percent, marker='x', s=300, color = 'Green')\n",
    "\n",
    "plt.title('How High and Low Volume affects Google Daily Percent Change')\n",
    "plt.xlabel(\"Volume\")\n",
    "plt.ylabel(\"Daily % Change\")"
   ]
  },
  {
   "cell_type": "markdown",
   "metadata": {},
   "source": [
    "Google suffers a similar fault that Apple faces. As you can see, the averages for both high and low volume days are negative with a majority of the points indicating the stock will pullback on these days. Once again, we see that the potential for positive gain on high volume days is far less than the potential for enormous loss. When comparing these values to the average daily change, we see that as expected, google tends to increase its value by a very small percentage each day. This indicates that hold a position on the average day will be far safer than risking your money on a high or low volume day."
   ]
  },
  {
   "cell_type": "code",
   "execution_count": 12,
   "metadata": {},
   "outputs": [
    {
     "data": {
      "text/plain": [
       "Text(0, 0.5, 'Daily % Change')"
      ]
     },
     "execution_count": 12,
     "metadata": {},
     "output_type": "execute_result"
    },
    {
     "data": {
      "image/png": "[encoded data removed]",
      "text/plain": [
       "<Figure size 1296x720 with 1 Axes>"
      ]
     },
     "metadata": {
      "needs_background": "light"
     },
     "output_type": "display_data"
    }
   ],
   "source": [
    "# Plots all individual points for Amazon Dataset(Top 20 most and least volume days)\n",
    "sns.scatterplot(data=am_t20_most, x=\"Volume\", y=\"% daily change\")\n",
    "sns.scatterplot(data=am_t20_least, x=\"Volume\", y=\"% daily change\")\n",
    "\n",
    "# Plots averages\n",
    "plt.scatter(am_most_avg_vol, am_most_avg_percent, marker='x', s=300, color = 'black')\n",
    "plt.scatter(am_least_avg_vol, am_least_avg_percent, marker='x', s=300, color = 'black')\n",
    "plt.scatter(am_avg_vol, am_avg_percent, marker='x', s=300, color = 'Green')\n",
    "\n",
    "plt.title('How High and Low Volume affects Amazon Daily Percent Change')\n",
    "plt.xlabel(\"Volume\")\n",
    "plt.ylabel(\"Daily % Change\")"
   ]
  },
  {
   "cell_type": "markdown",
   "metadata": {},
   "source": [
    "On the other hand, Amazon differs from both Apple and Google in this trend. On low volume days, Amazon has a very small increase. This increase is very similar to the daily growth rate and shows a fairly unharming sign. When looking at high volume days, we see that a majority of time Amazon's stock value increases. On average we see that the daily change on high volume days is at about 1% compared to a regular day increase of just 0.02% and when put into perspective, Amazon stock is trading at around 3000 dollars. That would be a 30 dollar increase in one day! If you are thinking \"I have seen Amazon stock go up 200 dollars in a day\" or \"Tesla went up 100 dollars one day last week\", this is a daily average(on high volume days). If Amazon stock were to go up 30 dollars a day on average, in a year it would go up by over 9000 dollars.\n",
    "\n",
    "Many of these high volume days also have even higher gains than 1% showing that holding your trades through high volume days will likely be favorable. Rarely does Amazon hold at its previous level on high volume days and more often than not, it has a fairly large increase. High volume days for Amazon are a day traders heaven and long term investors will defintely love to see a nice boost in their portfolio."
   ]
  },
  {
   "cell_type": "markdown",
   "metadata": {},
   "source": [
    "##  Graphing Distributions for Closing Price over Time"
   ]
  },
  {
   "cell_type": "markdown",
   "metadata": {},
   "source": [
    "Before moving on the analyze quarterly changes in stock prices and volatility, we would like to observe the general trend for closing price across time. By creating violin plots, we can visually see the distribution of stock prices and address any outliers that are likely to affect our upcoming linear regression models."
   ]
  },
  {
   "cell_type": "code",
   "execution_count": 13,
   "metadata": {},
   "outputs": [
    {
     "data": {
      "text/plain": [
       "Text(0.5, 1.0, 'Apple Stock Closing Price over Time')"
      ]
     },
     "execution_count": 13,
     "metadata": {},
     "output_type": "execute_result"
    },
    {
     "data": {
      "image/png": "[encoded data removed]",
      "text/plain": [
       "<Figure size 1296x720 with 1 Axes>"
      ]
     },
     "metadata": {
      "needs_background": "light"
     },
     "output_type": "display_data"
    }
   ],
   "source": [
    "sns.violinplot(x = apple_data['Year'], y = apple_data['Close'])\n",
    "plt.title(\"Apple Stock Closing Price over Time\")"
   ]
  },
  {
   "cell_type": "markdown",
   "metadata": {},
   "source": [
    "From Apple's violin plot, the distribution of closing price over time appears to be skewed to the left, with a linear relationship between price and time. However, the year 2020 seems to be a huge outlier with a very big difference between high and low prices which may affect our future calculations when observing volatility and when fitting a linear regression model. Specifically, we noticed that there is a trend where each distribution gets thinner over time which means that the stocks are becomming more volatile with time."
   ]
  },
  {
   "cell_type": "code",
   "execution_count": 14,
   "metadata": {},
   "outputs": [
    {
     "data": {
      "text/plain": [
       "Text(0.5, 1.0, 'Google Stock Closing Price over Time')"
      ]
     },
     "execution_count": 14,
     "metadata": {},
     "output_type": "execute_result"
    },
    {
     "data": {
      "image/png": "[encoded data removed]",
      "text/plain": [
       "<Figure size 1296x720 with 1 Axes>"
      ]
     },
     "metadata": {
      "needs_background": "light"
     },
     "output_type": "display_data"
    }
   ],
   "source": [
    "sns.violinplot(x = google_data['Year'], y = google_data['Close'])\n",
    "plt.title(\"Google Stock Closing Price over Time\")"
   ]
  },
  {
   "cell_type": "markdown",
   "metadata": {},
   "source": [
    "From Google's violin plot, the distribution of closing price over time also appears to be skewed to the left, with a clear linear relationship between price and time. Similar, the year 2020 has a big difference between high and low prices which may affect future calculations when observing volatility, but fitting a linear regression model for Google should be fairly accurate as the stock appears to be much less volatile than Apple. Again, we noticed the trend where the distributions are getting thinner over time which means that the stocks are becomming more volatile."
   ]
  },
  {
   "cell_type": "code",
   "execution_count": 15,
   "metadata": {},
   "outputs": [
    {
     "data": {
      "text/plain": [
       "Text(0.5, 1.0, 'Amazon Stock Closing Price over Time')"
      ]
     },
     "execution_count": 15,
     "metadata": {},
     "output_type": "execute_result"
    },
    {
     "data": {
      "image/png": "[encoded data removed]",
      "text/plain": [
       "<Figure size 1296x720 with 1 Axes>"
      ]
     },
     "metadata": {
      "needs_background": "light"
     },
     "output_type": "display_data"
    }
   ],
   "source": [
    "sns.violinplot(x = amazon_data['Year'], y = amazon_data['Close'])\n",
    "plt.title(\"Amazon Stock Closing Price over Time\")"
   ]
  },
  {
   "cell_type": "markdown",
   "metadata": {},
   "source": [
    "From Amazon's violin plot, the distribution of closing price over time is also skewed to the left, with a clear linear relationship between price and time. The years 2018 and 2020 stand out as having a big difference between high and low prices which may affect future calculations when observing volatility, and make fitting a linear regression model for Amazon difficult. Again, we noticed the trend where the distributions are getting thinner over time which means that the stocks are becomming more volatile, with the exception of 2018 being more volatile than 2019."
   ]
  },
  {
   "cell_type": "markdown",
   "metadata": {},
   "source": [
    "## Graphing Average Volatility Across Quarters"
   ]
  },
  {
   "cell_type": "markdown",
   "metadata": {},
   "source": [
    "We decided to split each dataset in half so the relationship between volatility and time can be more easily observed. From the violin plots in the previous section, we noted how there seemed to be greater volatility over time. The following graphs can help us observe this trend in greater detail and observe if there is any pattern in which quarters are the most volatile. "
   ]
  },
  {
   "cell_type": "code",
   "execution_count": null,
   "metadata": {},
   "outputs": [],
   "source": [
    "# Graph Apple's Average Volatility for each Quarter in Years 2011-2015\n",
    "apple_data1 = apple_data.query('Year == \"2011\" or Year == \"2012\" or Year == \"2013\" or Year == \"2014\" or Year == \"2015\"')\n",
    "\n",
    "for x in apple_data1['Quarter']:\n",
    "    # Calculate Average Volatility per Quarter\n",
    "    y = (apple_data1.loc[apple_data['Quarter'] == x, 'Volatility'].mean())\n",
    "    plt.scatter(x,y)\n",
    "    \n",
    "plt.title(\"Apple Stock Average Volatility Per Quarter in Years 2011-2015\")\n",
    "plt.xlabel(\"Quarters\")\n",
    "plt.ylabel(\"Volatility\")"
   ]
  },
  {
   "cell_type": "markdown",
   "metadata": {},
   "source": [
    "In the first half of the Apple dataset, volatility seems to be increasing over time. However, there is a lot of variation between quarters and there is no clear relationship indicating which quarters are the most volatile."
   ]
  },
  {
   "cell_type": "code",
   "execution_count": null,
   "metadata": {},
   "outputs": [],
   "source": [
    "# Graph Google's Average Volatility for each Quarter in Years 2011-2015\n",
    "google_data1 = google_data.query('Year == \"2011\" or Year == \"2012\" or Year == \"2013\" or Year == \"2014\" or Year == \"2015\"')\n",
    "\n",
    "for x in google_data1['Quarter']:\n",
    "    # Calculate Average Volatility per Quarter\n",
    "    y = (google_data1.loc[google_data['Quarter'] == x, 'Volatility'].mean())\n",
    "    plt.scatter(x,y)\n",
    "    \n",
    "plt.title(\"Google Stock Average Volatility Per Quarter in Years 2011-2015\")\n",
    "plt.xlabel(\"Quarters\")\n",
    "plt.ylabel(\"Volatility\")"
   ]
  },
  {
   "cell_type": "markdown",
   "metadata": {},
   "source": [
    "In the first half of the Google dataset, volatility seems to be increasing over time. While there is still a lot of variation between quarters, there does seem to be a pattern of the stock being more volatile around the end of the year which can be observed when comparing Q3 and Q4 average volatility as opposed to Q1 and Q2 average volatility of the same given year."
   ]
  },
  {
   "cell_type": "code",
   "execution_count": null,
   "metadata": {},
   "outputs": [],
   "source": [
    "# Graph Amazon's Average Volatility for each Quarter in Years 2011-2015\n",
    "amazon_data1 = amazon_data.query('Year == \"2011\" or Year == \"2012\" or Year == \"2013\" or Year == \"2014\" or Year == \"2015\"')\n",
    "\n",
    "for x in amazon_data1['Quarter']:\n",
    "    # Calculate Average Volatility per Quarter\n",
    "    y = (amazon_data1.loc[amazon_data['Quarter'] == x, 'Volatility'].mean())\n",
    "    plt.scatter(x,y)\n",
    "    \n",
    "plt.title(\"Amazon Stock Average Volatility Per Quarter in Years 2011-2015\")\n",
    "plt.xlabel(\"Quarters\")\n",
    "plt.ylabel(\"Volatility\")"
   ]
  },
  {
   "cell_type": "markdown",
   "metadata": {},
   "source": [
    "In the first half of the Amazon dataset, volatility seems to be increasing over time. The pattern that emerges here is very similar to Google and where the stock appear to be more volatile around the end of the year."
   ]
  },
  {
   "cell_type": "code",
   "execution_count": null,
   "metadata": {},
   "outputs": [],
   "source": [
    "# Graph Apple's Average Volatility for each Quarter in Years 2016-2020\n",
    "apple_data1 = apple_data.query('Year == \"2016\" or Year == \"2017\" or Year == \"2018\" or Year == \"2019\" or Year == \"2020\"')\n",
    "\n",
    "for x in apple_data1['Quarter']:\n",
    "    # Calculate Average Volatility per Quarter\n",
    "    y = (apple_data1.loc[apple_data['Quarter'] == x, 'Volatility'].mean())\n",
    "    plt.scatter(x,y)\n",
    "    \n",
    "plt.title(\"Apple Stock Average Volatility Per Quarter in Years 2016-2020\")\n",
    "plt.xlabel(\"Quarters\")\n",
    "plt.ylabel(\"Volatility\")"
   ]
  },
  {
   "cell_type": "markdown",
   "metadata": {},
   "source": [
    "In the second half of the Apple dataset, there is a clear linear relationship between volatility over time with a huge outlier in the year 2020. With the exception of 2016, the pattern of tech stocks being more volatile in Q3 and Q4 emerges in this plot."
   ]
  },
  {
   "cell_type": "code",
   "execution_count": null,
   "metadata": {},
   "outputs": [],
   "source": [
    "# Graph Google's Average Volatility for each Quarter in Years 2016-2020\n",
    "google_data1 = google_data.query('Year == \"2016\" or Year == \"2017\" or Year == \"2018\" or Year == \"2019\" or Year == \"2020\"')\n",
    "\n",
    "for x in google_data1['Quarter']:\n",
    "    # Calculate Average Volatility per Quarter\n",
    "    y = (google_data1.loc[google_data['Quarter'] == x, 'Volatility'].mean())\n",
    "    plt.scatter(x,y)\n",
    "    \n",
    "plt.title(\"Google Stock Average Volatility Per Quarter in Years 2016-2020\")\n",
    "plt.xlabel(\"Quarters\")\n",
    "plt.ylabel(\"Volatility\")"
   ]
  },
  {
   "cell_type": "markdown",
   "metadata": {},
   "source": [
    "In the second half of the Google dataset, while there is an overall linear relationship between volatility over time, there does not seem to be any clear relationships between volatility and quarters."
   ]
  },
  {
   "cell_type": "code",
   "execution_count": null,
   "metadata": {},
   "outputs": [],
   "source": [
    "# Graph Amazon's Average Volatility for each Quarter in Years 2016-2020\n",
    "amazon_data1 = amazon_data.query('Year == \"2016\" or Year == \"2017\" or Year == \"2018\" or Year == \"2019\" or Year == \"2020\"')\n",
    "\n",
    "for x in amazon_data1['Quarter']:\n",
    "    # Calculate Average Volatility per Quarter\n",
    "    y = (amazon_data1.loc[amazon_data['Quarter'] == x, 'Volatility'].mean())\n",
    "    plt.scatter(x,y)\n",
    "    \n",
    "plt.title(\"Amazon Stock Average Volatility Per Quarter in Years 2016-2020\")\n",
    "plt.xlabel(\"Quarters\")\n",
    "plt.ylabel(\"Volatility\")"
   ]
  },
  {
   "cell_type": "markdown",
   "metadata": {},
   "source": [
    "In the second half of the Amazon dataset, there is a clear linear relationship between volatility over time. With the exception of 2019, volatility does appear to increase in Q3 and Q4 which implies that Amazon tends to be more volatile later in the year."
   ]
  },
  {
   "cell_type": "markdown",
   "metadata": {},
   "source": [
    "## Stock Price Percent Quarterly Change"
   ]
  },
  {
   "cell_type": "markdown",
   "metadata": {},
   "source": [
    "For the final analysis, we would like to see which quarter is the best for investing in these three tech giants. We compare the total change for the entire quarter for each year. Then we plot 10 different lines that show this data and compare each value to the average for the quarter across all years. \n",
    "\n",
    "Interpreting this information is very useful. It allows us to learn more about patterns that these stocks trade in. For example, one might expect the first quarter for Amazon to be very successful as investors will have heard about the previous quarters sales during the holidays and buy Amazon shares. We will explore these relationships in this section."
   ]
  },
  {
   "cell_type": "code",
   "execution_count": null,
   "metadata": {},
   "outputs": [],
   "source": [
    "# Standardized Quarters across all years\n",
    "apple_data['Standardized Quarter'] = (apple_data['Quarter'].astype(str).str[5:7])\n",
    "google_data['Standardized Quarter'] = (google_data['Quarter'].astype(str).str[5:7])\n",
    "amazon_data['Standardized Quarter'] = (amazon_data['Quarter'].astype(str).str[5:7])\n",
    "\n",
    "# Finds unique years and quarters\n",
    "ap_uniq_q = apple_data['Standardized Quarter'].drop_duplicates()\n",
    "ap_years = apple_data['Year'].drop_duplicates()\n",
    "g_uniq_q = google_data['Standardized Quarter'].drop_duplicates()\n",
    "g_years = google_data['Year'].drop_duplicates()\n",
    "am_uniq_q = amazon_data['Standardized Quarter'].drop_duplicates()\n",
    "am_years = amazon_data['Year'].drop_duplicates()\n",
    "\n",
    "# Creates new dataframe to handle total change data\n",
    "apdf = pd.DataFrame(columns = ['Years', 'Quarters', 'Total % Change'])\n",
    "gdf = pd.DataFrame(columns = ['Years', 'Quarters', 'Total % Change'])\n",
    "amdf = pd.DataFrame(columns = ['Years', 'Quarters', 'Total % Change'])\n",
    "\n",
    "for i in ap_years:\n",
    "    for j in ap_uniq_q:\n",
    "        # Calculates total change across the year quarter combination\n",
    "        total = apple_data.loc[(apple_data['Year'] == i) & (apple_data['Standardized Quarter'] == j), '% daily change'].sum()\n",
    "        newrow = {'Years':i, 'Quarters': j, 'Total % Change': total}\n",
    "        # Adds data to the new dataframe\n",
    "        apdf = apdf.append(newrow, ignore_index=True)\n",
    "\n",
    "for i in g_years:\n",
    "    for j in g_uniq_q:\n",
    "        total = google_data.loc[(google_data['Year'] == i) & (google_data['Standardized Quarter'] == j), '% daily change'].sum()\n",
    "        newrow = {'Years':i, 'Quarters': j, 'Total % Change': total}\n",
    "        gdf = gdf.append(newrow, ignore_index=True)\n",
    "\n",
    "        \n",
    "for i in am_years:\n",
    "    for j in am_uniq_q:\n",
    "        total = amazon_data.loc[(amazon_data['Year'] == i) & (amazon_data['Standardized Quarter'] == j), '% daily change'].sum()\n",
    "        newrow = {'Years':i, 'Quarters': j, 'Total % Change': total}\n",
    "        amdf = amdf.append(newrow, ignore_index=True)\n",
    "\n",
    "# Finds total averages across each quarter\n",
    "apdfQ1_avg = apdf.loc[apdf['Quarters'] == \"Q1\", 'Total % Change'].mean()\n",
    "apdfQ2_avg = apdf.loc[apdf['Quarters'] == \"Q2\", 'Total % Change'].mean()\n",
    "apdfQ3_avg = apdf.loc[apdf['Quarters'] == \"Q3\", 'Total % Change'].mean()\n",
    "apdfQ4_avg = apdf.loc[apdf['Quarters'] == \"Q4\", 'Total % Change'].mean()\n",
    "gdfQ1_avg = gdf.loc[gdf['Quarters'] == \"Q1\", 'Total % Change'].mean()\n",
    "gdfQ2_avg = gdf.loc[gdf['Quarters'] == \"Q2\", 'Total % Change'].mean()\n",
    "gdfQ3_avg = gdf.loc[gdf['Quarters'] == \"Q3\", 'Total % Change'].mean()\n",
    "gdfQ4_avg = gdf.loc[gdf['Quarters'] == \"Q4\", 'Total % Change'].mean()\n",
    "amdfQ1_avg = amdf.loc[amdf['Quarters'] == \"Q1\", 'Total % Change'].mean()\n",
    "amdfQ2_avg = amdf.loc[amdf['Quarters'] == \"Q2\", 'Total % Change'].mean()\n",
    "amdfQ3_avg = amdf.loc[amdf['Quarters'] == \"Q3\", 'Total % Change'].mean()\n",
    "amdfQ4_avg = amdf.loc[amdf['Quarters'] == \"Q4\", 'Total % Change'].mean()\n",
    "\n",
    "applot= apdf.pivot(index = 'Quarters', columns = 'Years', values = 'Total % Change')\n",
    "gplot= gdf.pivot(index = 'Quarters', columns = 'Years', values = 'Total % Change')\n",
    "amplot= amdf.pivot(index = 'Quarters', columns = 'Years', values = 'Total % Change')"
   ]
  },
  {
   "cell_type": "markdown",
   "metadata": {},
   "source": [
    "Note: In the following plots, the black cross markets the average for that quarter"
   ]
  },
  {
   "cell_type": "code",
   "execution_count": null,
   "metadata": {},
   "outputs": [],
   "source": [
    "# Plots lines for each year\n",
    "sns.lineplot(data = applot, marker = \"o\", dashes = False)\n",
    "\n",
    "# Plots averages\n",
    "plt.scatter(\"Q1\", apdfQ1_avg, marker='x', s=300, color = 'black')\n",
    "plt.scatter(\"Q2\", apdfQ2_avg, marker='x', s=300, color = 'black')\n",
    "plt.scatter(\"Q3\", apdfQ3_avg, marker='x', s=300, color = 'black')\n",
    "plt.scatter(\"Q4\", apdfQ4_avg, marker='x', s=300, color = 'black')\n",
    "\n",
    "plt.title(\"Apple Stock Total Percent Quarterly Change\")\n",
    "plt.xlabel(\"Quarters\")\n",
    "plt.ylabel(\"Total % Change\")"
   ]
  },
  {
   "cell_type": "markdown",
   "metadata": {},
   "source": [
    "After examining this plot, we see that there is a large variance in Q1 and Q4 data while Q2 and Q3 data is much closer together. When looking at the averages for each quarter, Q1 and Q3 have more postive average total change while Q2 and Q4 tend to have minimal change or even minor losses. 2014 is the year that probably has the least variation on this plot. It had a minor loss in the first quarter, gained a lot in the second and mellowed out the rest of the year. 2012 seems to have had the largest variation. Every other quarter apple stock either did very well or very poorly likely causing the stock price to end the year very similar to how it started. As 2020 has been a crazy ride, we can see that this data reflects exactly that. Early in the year, everybody was doing well and then the pandemic started at the begining of the second quarter. It was only until the third quarter that the losses really started to show and then in the end of the year, the market bounced back."
   ]
  },
  {
   "cell_type": "code",
   "execution_count": null,
   "metadata": {},
   "outputs": [],
   "source": [
    "sns.lineplot(data = gplot, marker = \"o\", dashes = False)\n",
    "\n",
    "plt.scatter(\"Q1\", gdfQ1_avg, marker='x', s=300, color = 'black')\n",
    "plt.scatter(\"Q2\", gdfQ2_avg, marker='x', s=300, color = 'black')\n",
    "plt.scatter(\"Q3\", gdfQ3_avg, marker='x', s=300, color = 'black')\n",
    "plt.scatter(\"Q4\", gdfQ4_avg, marker='x', s=300, color = 'black')\n",
    "    \n",
    "plt.title(\"Google Stock Total Percent Quarterly Change\")\n",
    "plt.xlabel(\"Quarters\")\n",
    "plt.ylabel(\"Total % Change\")"
   ]
  },
  {
   "cell_type": "markdown",
   "metadata": {},
   "source": [
    "Google is different from Apple in that on average, 3 of the 4 quarters have positive change while only Q2 has a slight negative total change. Google's averages are also less extreme than Apple's ranging very close to both sides of 0. However, on a yearly basis, we see that both Google and Apple are capable of very large increases and decreases in price in the quarter. Once again 2012 stands out as the year with the largest variation. Google went from nearly a -10% loss in quarter 2 to far more than a 20% gain in quarter 3. This trend for Q3 hold for many other years making it the overall best quarter to invest in Google. Q1 also seems like a good time to invest as 2014 data can be considered an outlier however Q3 still has more favorable data to support an investment during this time."
   ]
  },
  {
   "cell_type": "code",
   "execution_count": null,
   "metadata": {},
   "outputs": [],
   "source": [
    "sns.lineplot(data = amplot, marker = \"o\", dashes = False)\n",
    "\n",
    "plt.scatter(\"Q1\", amdfQ1_avg, marker='x', s=300, color = 'black')\n",
    "plt.scatter(\"Q2\", amdfQ2_avg, marker='x', s=300, color = 'black')\n",
    "plt.scatter(\"Q3\", amdfQ3_avg, marker='x', s=300, color = 'black')\n",
    "plt.scatter(\"Q4\", amdfQ4_avg, marker='x', s=300, color = 'black')\n",
    "\n",
    "plt.title(\"Amazon Stock Total Percent Quarterly Change\")\n",
    "plt.xlabel(\"Quarters\")\n",
    "plt.ylabel(\"Total % Change\")"
   ]
  },
  {
   "cell_type": "markdown",
   "metadata": {},
   "source": [
    "Amazon's Quarterly Change shows a negative correlation between total change and the quarter. Q1 has the highest highs as well as the highest average, while Q4 has the lowest lows and the lowest average change. Q4 is the only quarter that has a negative average change while the others show that Amazon's stock will be increasing. Q2 and Q3 have the least variance amongst the years. 2012 and 2014 remain as ouliers for Q1 but even without these the general trend remains the same. With Q1 having around an 8% increase, investing in Amazon during this time of the year is ideal. For longer term traders, holding your positions throughout until Q4 will likely result in great returns. Shorter term traders should look at either Q1 or Q4 for more variance in the market to capitalize on."
   ]
  },
  {
   "cell_type": "markdown",
   "metadata": {},
   "source": [
    "<h2 align=\"center\">Predicting Prices</h2>"
   ]
  },
  {
   "cell_type": "markdown",
   "metadata": {},
   "source": [
    "In our last section, we will develop a model to predict closing prices with date acting as the predictor. Later on we will be able to determine whether we are able to reject the null hypothesis by looking at the p-value for each model.\n",
    "\n",
    "When determining proper training and testing data we analyzed which years would leave us with the best representation of what happened in history and how it may continue in the future. For this reason, we did not include 2011 and 2012 as they were far more stagnant in terms of growth. Including 2020 would be a large mistake when trying to find an accurate model for the entire decade as this year has been a large outlier. Therefore, it was not chosen to be in the training set. We added it into the testing set knowing that there would be a large deviation from the regression line due to the boom this year has had.\n",
    "\n",
    "One last part before we can start fitting the model is to convert the date attribute to an ordinal value that can be fitted."
   ]
  },
  {
   "cell_type": "code",
   "execution_count": null,
   "metadata": {},
   "outputs": [],
   "source": [
    "# Use data from 2013-2019 to train our model\n",
    "training_apple_data = apple_data.query('Year == \"2013\" or Year == \"2014\" or Year == \"2015\" or Year == \"2016\" or Year == \"2017\" or Year == \"2018\" or Year == \"2019\"')\n",
    "training_google_data = google_data.query('Year == \"2013\" or Year == \"2014\" or Year == \"2015\" or Year == \"2016\" or Year == \"2017\" or Year == \"2018\" or Year == \"2019\"')\n",
    "training_amazon_data = amazon_data.query('Year == \"2013\" or Year == \"2014\" or Year == \"2015\" or Year == \"2016\" or Year == \"2017\" or Year == \"2018\" or Year == \"2019\"')\n",
    "\n",
    "# Use data from 2014-2020 to test our model\n",
    "testing_apple_data = apple_data.query('Year == \"2014\" or Year == \"2015\" or Year == \"2016\" or Year == \"2017\" or Year == \"2018\" or Year == \"2019\" or Year == \"2020\"')\n",
    "testing_google_data = google_data.query('Year == \"2014\" or Year == \"2015\" or Year == \"2016\" or Year == \"2017\" or Year == \"2018\" or Year == \"2019\" or Year == \"2020\"')\n",
    "testing_amazon_data = amazon_data.query('Year == \"2014\" or Year == \"2015\" or Year == \"2016\" or Year == \"2017\" or Year == \"2018\" or Year == \"2019\" or Year == \"2020\"')\n",
    "\n",
    "# Change date from string to int values so regression can be performed\n",
    "training_apple_data['Date_O'] = pd.to_datetime(training_apple_data['Date'])\n",
    "training_apple_data['Date_O'] = training_apple_data['Date_O'].map(dt.datetime.toordinal)\n",
    "testing_apple_data['Date_O'] = pd.to_datetime(testing_apple_data['Date'])\n",
    "testing_apple_data['Date_O'] = testing_apple_data['Date_O'].map(dt.datetime.toordinal)\n",
    "training_google_data['Date_O'] = pd.to_datetime(training_google_data['Date'])\n",
    "training_google_data['Date_O'] = training_google_data['Date_O'].map(dt.datetime.toordinal)\n",
    "testing_google_data['Date_O'] = pd.to_datetime(testing_google_data['Date'])\n",
    "testing_google_data['Date_O'] = testing_google_data['Date_O'].map(dt.datetime.toordinal)\n",
    "training_amazon_data['Date_O'] = pd.to_datetime(training_google_data['Date'])\n",
    "training_amazon_data['Date_O'] = training_amazon_data['Date_O'].map(dt.datetime.toordinal)\n",
    "testing_amazon_data['Date_O'] = pd.to_datetime(testing_amazon_data['Date'])\n",
    "testing_amazon_data['Date_O'] = testing_amazon_data['Date_O'].map(dt.datetime.toordinal)"
   ]
  },
  {
   "cell_type": "markdown",
   "metadata": {},
   "source": [
    "We are ready to begin training and testing the model!"
   ]
  },
  {
   "cell_type": "code",
   "execution_count": null,
   "metadata": {},
   "outputs": [],
   "source": [
    "predicted = []\n",
    "# Fits model\n",
    "reg_apple = ols(formula='Close ~ Date_O', data=training_apple_data).fit()\n",
    "# Predicts on tested data\n",
    "predicted = reg_apple.predict(testing_apple_data['Date_O'])\n",
    "testing_apple_data['predicted'] = predicted\n",
    "\n",
    "predicted = []\n",
    "reg_google = ols(formula='Close ~ Date_O', data=training_google_data).fit()\n",
    "predicted = reg_google.predict(testing_google_data['Date_O'])\n",
    "testing_google_data['predicted'] = predicted\n",
    "\n",
    "predicted = []\n",
    "reg_amazon = ols(formula='Close ~ Date_O', data=training_amazon_data).fit()\n",
    "predicted = reg_amazon.predict(testing_amazon_data['Date_O'])\n",
    "testing_amazon_data['predicted'] = predicted"
   ]
  },
  {
   "cell_type": "code",
   "execution_count": null,
   "metadata": {},
   "outputs": [],
   "source": [
    "# Converts String to Date time\n",
    "testing_apple_data['Date'] = pd.to_datetime(testing_apple_data['Date'])\n",
    "testing_google_data['Date'] = pd.to_datetime(testing_google_data['Date'])\n",
    "testing_amazon_data['Date'] = pd.to_datetime(testing_amazon_data['Date'])"
   ]
  },
  {
   "cell_type": "code",
   "execution_count": null,
   "metadata": {},
   "outputs": [],
   "source": [
    "sns.lineplot(x = testing_apple_data.Date, y = testing_apple_data.predicted)\n",
    "sns.lineplot(x = testing_apple_data.Date, y = testing_apple_data.Close)"
   ]
  },
  {
   "cell_type": "markdown",
   "metadata": {},
   "source": [
    "When comparing the blue regression line and the orange stock price, we see that for a majority of the plot, the regression line holds a very decent best fit line amongst the data. There is only the end portion of the plot corresponding to 2020 that fails this and that is to be expected. From the naked eye, the regression line seems to be doing its job but we can confirm if this is the case by looking at the R-squared and p values."
   ]
  },
  {
   "cell_type": "code",
   "execution_count": null,
   "metadata": {},
   "outputs": [],
   "source": [
    "sns.lineplot(x = testing_google_data.Date, y = testing_google_data.predicted)\n",
    "sns.lineplot(x = testing_google_data.Date, y = testing_google_data.Close)"
   ]
  },
  {
   "cell_type": "markdown",
   "metadata": {},
   "source": [
    "This google plot comparing the regression line and the stock price shows that the model found a very good best fit line even accounting for 2020 data points. In the earlier years tested, the residuals for this plot would not be far off from zero and aren't nearly as bad for 2020 as previously expected. Once again we visit the model summary to see statistics that will tell us if this is true."
   ]
  },
  {
   "cell_type": "code",
   "execution_count": null,
   "metadata": {},
   "outputs": [],
   "source": [
    "sns.lineplot(x = testing_amazon_data.Date, y = testing_amazon_data.predicted)\n",
    "sns.lineplot(x = testing_amazon_data.Date, y = testing_amazon_data.Close)"
   ]
  },
  {
   "cell_type": "markdown",
   "metadata": {},
   "source": [
    "The amazon model is not too far off from the google model in the early years of testing but suffers the same effects as the apple model in the year of 2020. We will examine the R-squared value and p-value to determine how accurate the model really is and see if there is a true relationship between the date and closing price."
   ]
  },
  {
   "cell_type": "code",
   "execution_count": null,
   "metadata": {},
   "outputs": [],
   "source": [
    "reg_apple.summary()"
   ]
  },
  {
   "cell_type": "markdown",
   "metadata": {},
   "source": [
    "By looking at Apple's model summary, we see that it has an R-squared value of 0.857 and P values of 0. These are very strong indicators letting us know that the model is infact a good one. Since the pvalue is less than 0.05, we say that with 95% confidence, the coefficient does not include zero. With this information we can reject the null hypothesis and say that there is a clear relationship between the date and the price. Logically speaking, this makes sense. The R-squares value is quite close to 1 showing that the model is account for more of the variance than not. Although, the warnings do state that there is likely multicollinearity, that does not discredit this linear model, but simply states that it can be better."
   ]
  },
  {
   "cell_type": "code",
   "execution_count": null,
   "metadata": {},
   "outputs": [],
   "source": [
    "reg_google.summary()"
   ]
  },
  {
   "cell_type": "markdown",
   "metadata": {},
   "source": [
    "The Google model has an even better prediction rate than the apple model having a R-squared value even closer to 1. This showcases the strong correlation between date and price. Once again the P values are less than 0.05 meaning we can reject the null hypothesis."
   ]
  },
  {
   "cell_type": "code",
   "execution_count": null,
   "metadata": {},
   "outputs": [],
   "source": [
    "reg_amazon.summary()"
   ]
  },
  {
   "cell_type": "markdown",
   "metadata": {},
   "source": [
    "The Amazon model seems to have a prediction accuracy level somewhere in between the one of google and apple. Nevertheless, it is still a very good model with a R-squared value only about 0.1 away from 1 and a p value of 0. This means we can confirm that there is a relationship between date and price and we have created a good model."
   ]
  },
  {
   "cell_type": "markdown",
   "metadata": {},
   "source": [
    "<h2 align=\"center\">Conclusion and Future Endeavors</h2>"
   ]
  },
  {
   "cell_type": "markdown",
   "metadata": {},
   "source": [
    "Right now, more than ever, the stock market is catching everybody's eye. Tech stocks are at the core of the recent market boom and the three companies here, Apple, Google, and Amazon are giants in the tech industry. Furthermore, many other tech stocks traded in the market follow similar trends to these three companies making it vital for us to understand the historical progression of these companies. By going through the entire data science pipeline, we learned a lot about past trends that these companies have had giving us more insight on when might be the best times to invest. Also, creating a linear regression model that predicts the price of the stock allowed us to learn about the differences in expected and predicted values. After seeing our results, it really gave us perspective on how much of an outlier 2020 has been.\n",
    "\n",
    "In the future, we hope to continue improving our model and drawing other unique conclusions by examining other trends between the data. Something we would have liked to test and predict was the chance of the stock gapping up. This is when the stock price has a significant increase between the close and open of the next day. This type of information would be very important for day traders. We would have also liked to improve our model by adding more variables or interaction terms like volume that would help increase the accuracy of the model. A multiple linear regression model or higher degrees of regression would also likely increase the accuracy of the model. We hope that reading this tutorial gave you more insight on how market factors affect the price of these three very popular stocks. We also hope you will consider the information presented here when deciding when to enter your next trade. If you are new to the market or just interested in any of these stocks, we hope you enjoyed the read and learned something new."
   ]
  }
 ],
 "metadata": {
  "kernelspec": {
   "display_name": "Python 3",
   "language": "python",
   "name": "python3"
  },
  "language_info": {
   "codemirror_mode": {
    "name": "ipython",
    "version": 3
   },
   "file_extension": ".py",
   "mimetype": "text/x-python",
   "name": "python",
   "nbconvert_exporter": "python",
   "pygments_lexer": "ipython3",
   "version": "3.8.5"
  }
 },
 "nbformat": 4,
 "nbformat_minor": 4
}
